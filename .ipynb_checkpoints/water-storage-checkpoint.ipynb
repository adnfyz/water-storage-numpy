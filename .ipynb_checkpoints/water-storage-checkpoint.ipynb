{
 "cells": [
  {
   "cell_type": "code",
   "execution_count": null,
   "metadata": {},
   "outputs": [],
   "source": [
    "import numpy as np\n",
    "\n",
    "def WaterStoredInPlatform(cubes):\n",
    "    m,n = cubes.shape\n",
    "    m,n\n",
    "    z = np.min(cubes)\n",
    "    z\n",
    "    water = np.ones((z+1,m,n))\n",
    "    water\n",
    "    for level in range(0,z):\n",
    "        water[level] = np.where(cubes - level <= 0, 1 ,0)\n",
    "    water *=2\n",
    "    water\n",
    "    for level in range(0,z+1):\n",
    "        zero = np.argwhere(water[level] == 1)\n",
    "        for yy,xx in zero:\n",
    "            if xx == 0 or yy == 0 or yy == m-1 or xx == n-1:\n",
    "                water[level,yy,xx] = 2\n",
    "    count = np.count_nonzero(water[level] == 2)\n",
    "    oldcount = 0\n",
    "    spill = np.argwhere(water[level] == 2)\n",
    "    while oldcount != 2:\n",
    "        oldcount = count\n",
    "        for yy,xx in spill:\n",
    "            if xx-1 >= 0:\n",
    "                if water[level,yy,xx-1] == 1:\n",
    "                    water[level,yy,xx-1] = 2\n",
    "            if xx+1 < n:\n",
    "                if water[level,yy,xx+1] == 1:\n",
    "                    water[level,yy,xx+1] = 2\n",
    "            if yy+1 < m:\n",
    "                if water[level,yy+1,xx] == 1:\n",
    "                    water[level,yy+1,xx] = 2\n",
    "            if yy-1 >= 0:\n",
    "                if water[level,yy-1,xx] == 1:\n",
    "                    water[level,yy-1,xx] = 2\n",
    "            if level+1 <= z:\n",
    "                if water[level+1,yy,xx] == 1:\n",
    "                    water[level+1,yy,xx] = 2\n",
    "        \n",
    "        spill = np.argwhere(water[level] == 2)\n",
    "        count = np.count_nonzero(water[level] == 2)\n",
    "    water[level] = np.where(water[level] == 1, 1, 0)\n",
    "\n",
    "    totalcubes = np.sum(water)\n",
    "\n",
    "    print('\\nTotal Water Stored: ', totalcubes)\n",
    "\n",
    "\n",
    "\n"
   ]
  },
  {
   "cell_type": "code",
   "execution_count": null,
   "metadata": {},
   "outputs": [],
   "source": [
    "\n",
    "# cubes =  np.array([[2,2,2],\n",
    "#                   [2,2,2],\n",
    "#                   [2,2,2]])\n",
    "cubes = np.array([[3, 3, 3, 3, 5, 3],\n",
    "                  [3, 0, 2, 3, 1, 3],\n",
    "                  [3, 1, 2, 3, 1, 3],\n",
    "                  [3, 3, 3, 1, 3, 3],\n",
    "                  [0, 0, 0, 0, 0, 0]])\n",
    "WaterStoredInPlatform(cubes)"
   ]
  },
  {
   "cell_type": "code",
   "execution_count": null,
   "metadata": {},
   "outputs": [],
   "source": []
  },
  {
   "cell_type": "code",
   "execution_count": null,
   "metadata": {},
   "outputs": [],
   "source": []
  },
  {
   "cell_type": "code",
   "execution_count": null,
   "metadata": {},
   "outputs": [],
   "source": []
  }
 ],
 "metadata": {
  "kernelspec": {
   "display_name": "Python 3",
   "language": "python",
   "name": "python3"
  },
  "language_info": {
   "codemirror_mode": {
    "name": "ipython",
    "version": 3
   },
   "file_extension": ".py",
   "mimetype": "text/x-python",
   "name": "python",
   "nbconvert_exporter": "python",
   "pygments_lexer": "ipython3",
   "version": "3.6.8"
  }
 },
 "nbformat": 4,
 "nbformat_minor": 2
}
